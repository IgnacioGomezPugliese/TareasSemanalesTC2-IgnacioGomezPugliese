{
 "cells": [
  {
   "cell_type": "markdown",
   "id": "64679e23-83e6-412e-b025-0bca77b2c488",
   "metadata": {},
   "source": [
    "#Tarea Semanal 2 - Teoria de Circuitos 2"
   ]
  },
  {
   "cell_type": "markdown",
   "id": "c51a8a85-3139-4a4a-b1a9-a06af4986ec6",
   "metadata": {},
   "source": [
    "##Profesor:"
   ]
  },
  {
   "cell_type": "raw",
   "id": "476e7ea0-ee29-49ed-81d5-cb77c1a8b57a",
   "metadata": {},
   "source": [
    "#hola"
   ]
  },
  {
   "cell_type": "markdown",
   "id": "2517d334-a3b1-4f53-b03f-19f875f165e2",
   "metadata": {},
   "source": []
  }
 ],
 "metadata": {
  "kernelspec": {
   "display_name": "Python 3 (ipykernel)",
   "language": "python",
   "name": "python3"
  },
  "language_info": {
   "codemirror_mode": {
    "name": "ipython",
    "version": 3
   },
   "file_extension": ".py",
   "mimetype": "text/x-python",
   "name": "python",
   "nbconvert_exporter": "python",
   "pygments_lexer": "ipython3",
   "version": "3.12.3"
  }
 },
 "nbformat": 4,
 "nbformat_minor": 5
}
